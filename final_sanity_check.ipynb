{
 "cells": [
  {
   "cell_type": "code",
   "execution_count": 38,
   "metadata": {},
   "outputs": [],
   "source": [
    "import pandas as pd\n",
    "import numpy as np"
   ]
  },
  {
   "cell_type": "code",
   "execution_count": 39,
   "metadata": {},
   "outputs": [],
   "source": [
    "def levenshtein_ratio_and_distance(s, t, ratio_calc = False):\n",
    "    \"\"\" levenshtein_ratio_and_distance:\n",
    "        Calculates levenshtein distance between two strings.\n",
    "        If ratio_calc = True, the function computes the\n",
    "        levenshtein distance ratio of similarity between two strings\n",
    "        For all i and j, distance[i,j] will contain the Levenshtein\n",
    "        distance between the first i characters of s and the\n",
    "        first j characters of t\n",
    "    \"\"\"\n",
    "    # Initialize matrix of zeros\n",
    "    rows = len(s)+1\n",
    "    cols = len(t)+1\n",
    "    distance = np.zeros((rows,cols),dtype = int)\n",
    "\n",
    "    # Populate matrix of zeros with the indeces of each character of both strings\n",
    "    for i in range(1, rows):\n",
    "        for k in range(1,cols):\n",
    "            distance[i][0] = i\n",
    "            distance[0][k] = k\n",
    "\n",
    "    # Iterate over the matrix to compute the cost of deletions,insertions and/or substitutions    \n",
    "    for col in range(1, cols):\n",
    "        for row in range(1, rows):\n",
    "            if s[row-1] == t[col-1]:\n",
    "                cost = 0 # If the characters are the same in the two strings in a given position [i,j] then the cost is 0\n",
    "            else:\n",
    "                # In order to align the results with those of the Python Levenshtein package, if we choose to calculate the ratio\n",
    "                # the cost of a substitution is 2. If we calculate just distance, then the cost of a substitution is 1.\n",
    "                if ratio_calc == True:\n",
    "                    cost = 2\n",
    "                else:\n",
    "                    cost = 1\n",
    "            distance[row][col] = min(distance[row-1][col] + 1,      # Cost of deletions\n",
    "                                 distance[row][col-1] + 1,          # Cost of insertions\n",
    "                                 distance[row-1][col-1] + cost)     # Cost of substitutions\n",
    "    if ratio_calc == True:\n",
    "        # Computation of the Levenshtein Distance Ratio\n",
    "        Ratio = ((len(s)+len(t)) - distance[row][col]) / (len(s)+len(t))\n",
    "        return Ratio\n",
    "    else:\n",
    "        # print(distance) # Uncomment if you want to see the matrix showing how the algorithm computes the cost of deletions,\n",
    "        # insertions and/or substitutions\n",
    "        # This is the minimum number of edits needed to convert string a to string b\n",
    "        return distance[row][col]"
   ]
  },
  {
   "cell_type": "code",
   "execution_count": 40,
   "metadata": {},
   "outputs": [
    {
     "data": {
      "text/html": [
       "<div>\n",
       "<style scoped>\n",
       "    .dataframe tbody tr th:only-of-type {\n",
       "        vertical-align: middle;\n",
       "    }\n",
       "\n",
       "    .dataframe tbody tr th {\n",
       "        vertical-align: top;\n",
       "    }\n",
       "\n",
       "    .dataframe thead th {\n",
       "        text-align: right;\n",
       "    }\n",
       "</style>\n",
       "<table border=\"1\" class=\"dataframe\">\n",
       "  <thead>\n",
       "    <tr style=\"text-align: right;\">\n",
       "      <th></th>\n",
       "      <th>paperID</th>\n",
       "      <th>author1</th>\n",
       "      <th>author2</th>\n",
       "      <th>affiliation1</th>\n",
       "      <th>affiliation2</th>\n",
       "      <th>location</th>\n",
       "      <th>year</th>\n",
       "    </tr>\n",
       "  </thead>\n",
       "  <tbody>\n",
       "    <tr>\n",
       "      <th>0</th>\n",
       "      <td>0</td>\n",
       "      <td>Maureen M. Villamor</td>\n",
       "      <td>Ma. Mercedes T. Rodrigo</td>\n",
       "      <td>University of Southeastern Philippines</td>\n",
       "      <td>Ateneo de Manila University</td>\n",
       "      <td>local</td>\n",
       "      <td>2019</td>\n",
       "    </tr>\n",
       "    <tr>\n",
       "      <th>1</th>\n",
       "      <td>1</td>\n",
       "      <td>Deion C. Menor</td>\n",
       "      <td>Cher T. Panlilio</td>\n",
       "      <td>Ateneo de Manila University</td>\n",
       "      <td>Ateneo de Manila University</td>\n",
       "      <td>local</td>\n",
       "      <td>2019</td>\n",
       "    </tr>\n",
       "    <tr>\n",
       "      <th>2</th>\n",
       "      <td>1</td>\n",
       "      <td>Deion C. Menor</td>\n",
       "      <td>Lourdes J. Santiago</td>\n",
       "      <td>Ateneo de Manila University</td>\n",
       "      <td>Ateneo de Manila University</td>\n",
       "      <td>local</td>\n",
       "      <td>2019</td>\n",
       "    </tr>\n",
       "    <tr>\n",
       "      <th>3</th>\n",
       "      <td>1</td>\n",
       "      <td>Deion C. Menor</td>\n",
       "      <td>Andrei D. Coronel</td>\n",
       "      <td>Ateneo de Manila University</td>\n",
       "      <td>Ateneo de Manila University</td>\n",
       "      <td>local</td>\n",
       "      <td>2019</td>\n",
       "    </tr>\n",
       "    <tr>\n",
       "      <th>4</th>\n",
       "      <td>1</td>\n",
       "      <td>Cher T. Panlilio</td>\n",
       "      <td>Lourdes J. Santiago</td>\n",
       "      <td>Ateneo de Manila University</td>\n",
       "      <td>Ateneo de Manila University</td>\n",
       "      <td>local</td>\n",
       "      <td>2019</td>\n",
       "    </tr>\n",
       "  </tbody>\n",
       "</table>\n",
       "</div>"
      ],
      "text/plain": [
       "  paperID              author1                  author2  \\\n",
       "0       0  Maureen M. Villamor  Ma. Mercedes T. Rodrigo   \n",
       "1       1       Deion C. Menor         Cher T. Panlilio   \n",
       "2       1       Deion C. Menor      Lourdes J. Santiago   \n",
       "3       1       Deion C. Menor        Andrei D. Coronel   \n",
       "4       1     Cher T. Panlilio      Lourdes J. Santiago   \n",
       "\n",
       "                             affiliation1                 affiliation2  \\\n",
       "0  University of Southeastern Philippines  Ateneo de Manila University   \n",
       "1             Ateneo de Manila University  Ateneo de Manila University   \n",
       "2             Ateneo de Manila University  Ateneo de Manila University   \n",
       "3             Ateneo de Manila University  Ateneo de Manila University   \n",
       "4             Ateneo de Manila University  Ateneo de Manila University   \n",
       "\n",
       "  location  year  \n",
       "0    local  2019  \n",
       "1    local  2019  \n",
       "2    local  2019  \n",
       "3    local  2019  \n",
       "4    local  2019  "
      ]
     },
     "execution_count": 40,
     "metadata": {},
     "output_type": "execute_result"
    }
   ],
   "source": [
    "data = pd.read_csv('network-data/combined-edges.csv')\n",
    "data.head()"
   ]
  },
  {
   "cell_type": "code",
   "execution_count": 54,
   "metadata": {},
   "outputs": [],
   "source": [
    "authors = np.unique(np.concatenate([data['author1'].unique(), data['author2'].unique()]))"
   ]
  },
  {
   "cell_type": "code",
   "execution_count": 55,
   "metadata": {},
   "outputs": [
    {
     "data": {
      "text/plain": [
       "1524"
      ]
     },
     "execution_count": 55,
     "metadata": {},
     "output_type": "execute_result"
    }
   ],
   "source": [
    "len(authors)"
   ]
  },
  {
   "cell_type": "code",
   "execution_count": 43,
   "metadata": {},
   "outputs": [
    {
     "ename": "KeyboardInterrupt",
     "evalue": "",
     "output_type": "error",
     "traceback": [
      "\u001b[0;31m---------------------------------------------------------------------------\u001b[0m",
      "\u001b[0;31mKeyboardInterrupt\u001b[0m                         Traceback (most recent call last)",
      "\u001b[0;32m<ipython-input-43-097fdb4e6814>\u001b[0m in \u001b[0;36m<module>\u001b[0;34m\u001b[0m\n\u001b[1;32m      5\u001b[0m     \u001b[0;32mfor\u001b[0m \u001b[0mx\u001b[0m \u001b[0;32min\u001b[0m \u001b[0mresult\u001b[0m\u001b[0;34m:\u001b[0m\u001b[0;34m\u001b[0m\u001b[0;34m\u001b[0m\u001b[0m\n\u001b[1;32m      6\u001b[0m         \u001b[0;32mif\u001b[0m \u001b[0mi\u001b[0m \u001b[0;34m!=\u001b[0m \u001b[0mx\u001b[0m\u001b[0;34m:\u001b[0m\u001b[0;34m\u001b[0m\u001b[0;34m\u001b[0m\u001b[0m\n\u001b[0;32m----> 7\u001b[0;31m             \u001b[0mdist\u001b[0m \u001b[0;34m=\u001b[0m \u001b[0mlevenshtein_ratio_and_distance\u001b[0m\u001b[0;34m(\u001b[0m\u001b[0mi\u001b[0m\u001b[0;34m,\u001b[0m \u001b[0mx\u001b[0m\u001b[0;34m)\u001b[0m\u001b[0;34m\u001b[0m\u001b[0;34m\u001b[0m\u001b[0m\n\u001b[0m\u001b[1;32m      8\u001b[0m             \u001b[0;32mif\u001b[0m \u001b[0mdist\u001b[0m \u001b[0;34m<\u001b[0m \u001b[0;36m5\u001b[0m \u001b[0;32mand\u001b[0m \u001b[0mdist\u001b[0m \u001b[0;34m>\u001b[0m \u001b[0;36m0\u001b[0m\u001b[0;34m:\u001b[0m\u001b[0;34m\u001b[0m\u001b[0;34m\u001b[0m\u001b[0m\n\u001b[1;32m      9\u001b[0m                 \u001b[0mprint\u001b[0m\u001b[0;34m(\u001b[0m\u001b[0mdist\u001b[0m\u001b[0;34m,\u001b[0m \u001b[0mi\u001b[0m\u001b[0;34m,\u001b[0m \u001b[0mx\u001b[0m\u001b[0;34m)\u001b[0m\u001b[0;34m\u001b[0m\u001b[0;34m\u001b[0m\u001b[0m\n",
      "\u001b[0;32m<ipython-input-39-cf7be1084b1d>\u001b[0m in \u001b[0;36mlevenshtein_ratio_and_distance\u001b[0;34m(s, t, ratio_calc)\u001b[0m\n\u001b[1;32m     16\u001b[0m     \u001b[0;32mfor\u001b[0m \u001b[0mi\u001b[0m \u001b[0;32min\u001b[0m \u001b[0mrange\u001b[0m\u001b[0;34m(\u001b[0m\u001b[0;36m1\u001b[0m\u001b[0;34m,\u001b[0m \u001b[0mrows\u001b[0m\u001b[0;34m)\u001b[0m\u001b[0;34m:\u001b[0m\u001b[0;34m\u001b[0m\u001b[0;34m\u001b[0m\u001b[0m\n\u001b[1;32m     17\u001b[0m         \u001b[0;32mfor\u001b[0m \u001b[0mk\u001b[0m \u001b[0;32min\u001b[0m \u001b[0mrange\u001b[0m\u001b[0;34m(\u001b[0m\u001b[0;36m1\u001b[0m\u001b[0;34m,\u001b[0m\u001b[0mcols\u001b[0m\u001b[0;34m)\u001b[0m\u001b[0;34m:\u001b[0m\u001b[0;34m\u001b[0m\u001b[0;34m\u001b[0m\u001b[0m\n\u001b[0;32m---> 18\u001b[0;31m             \u001b[0mdistance\u001b[0m\u001b[0;34m[\u001b[0m\u001b[0mi\u001b[0m\u001b[0;34m]\u001b[0m\u001b[0;34m[\u001b[0m\u001b[0;36m0\u001b[0m\u001b[0;34m]\u001b[0m \u001b[0;34m=\u001b[0m \u001b[0mi\u001b[0m\u001b[0;34m\u001b[0m\u001b[0;34m\u001b[0m\u001b[0m\n\u001b[0m\u001b[1;32m     19\u001b[0m             \u001b[0mdistance\u001b[0m\u001b[0;34m[\u001b[0m\u001b[0;36m0\u001b[0m\u001b[0;34m]\u001b[0m\u001b[0;34m[\u001b[0m\u001b[0mk\u001b[0m\u001b[0;34m]\u001b[0m \u001b[0;34m=\u001b[0m \u001b[0mk\u001b[0m\u001b[0;34m\u001b[0m\u001b[0;34m\u001b[0m\u001b[0m\n\u001b[1;32m     20\u001b[0m \u001b[0;34m\u001b[0m\u001b[0m\n",
      "\u001b[0;31mKeyboardInterrupt\u001b[0m: "
     ]
    }
   ],
   "source": [
    "replace_authors = {}\n",
    "\n",
    "for i in authors:\n",
    "    result = filter(lambda x: x.startswith(i[0]), authors)\n",
    "    for x in result:\n",
    "        if i != x:\n",
    "            dist = levenshtein_ratio_and_distance(i, x)\n",
    "            if dist < 5 and dist > 0:\n",
    "                print(dist, i, x)\n",
    "                replace_authors[i] = x"
   ]
  },
  {
   "cell_type": "code",
   "execution_count": 52,
   "metadata": {},
   "outputs": [],
   "source": [
    "for_replace = {\n",
    "    'Mark Lorenze D R Torregoza': 'Mark Lorenze Torregoza',\n",
    "    'Mark Lorenze R. Torregoza': 'Mark Lorenze Torregoza',\n",
    "    'Mark Lorenze Torregaza': 'Mark Lorenze Torregoza',\n",
    "    'Bobby Gerardo': 'Bobby D. Gerardo',\n",
    "    'Cecil Jose Delfinado': 'Cecil Jose A. Delfinado',\n",
    "    'Daniel Marc Dela Torre': 'Daniel Marc G. Dela Torre',\n",
    "    'Danny Cheng': 'Danny C. Cheng',\n",
    "    'Eric Camilo Punzalan': 'Eric Camilo R. Punzalan',\n",
    "    'Ezekiel A. Cotoco': 'Ezekiel Karl A. Cotoco',\n",
    "    'Joel Paz Ilao': 'Joel P. Ilao',\n",
    "    'Johnamos Tan': 'John Amos Tan',\n",
    "    'John Ultra': 'John D. Ultra',\n",
    "    'John Matthew B. Villaores': 'John Matthew B. Villaflores',\n",
    "    'John Dela Cruz': 'John R. Dela Cruz',\n",
    "    'Jun Rangie Obispo': 'Jun Rangie C. Obispo',\n",
    "    'Katrina Joy Abriol-Santos': 'Katrina Joy M. Abriol-Santos',\n",
    "    'Kristofer E.Delas Penas': 'Kristofer E. Delas Peñas',\n",
    "    'Kristofer Delas Peñas': 'Kristofer E. Delas Peñas',\n",
    "    'Laurence A.Gan Lim': 'Laurence A. Gan Lim',\n",
    "    'Laurence Gan Lim': 'Laurence A. Gan Lim',\n",
    "    'Maria Isabel S. Saludaresy': 'Maria Isabel S. Saludares',\n",
    "    'Marie Yvette de Robles': 'Marie Yvette B. de Robles',\n",
    "    'Nathaniel C. Batayan': 'Nathaniel C. Bantayan',\n",
    "    'Prospero C. Naval': 'Prospero C. Naval Jr.',\n",
    "    'Rex Bringula': 'Rex P. Bringula',\n",
    "    'Rowel O. Atienzay': 'Rowel O. Atienza',\n",
    "    'Rowel O. Atienzaz': 'Rowel O. Atienza',\n",
    "    'Ruji Medina': 'Ruji P. Medina',\n",
    "    'Val Randolf Madrid': 'Val Randolf M. Madrid',\n",
    "    'Elmer B. Dadios': 'Elmer P. Dadios',\n",
    "    'Mary B. Malana': 'Mary Grace Malana',\n",
    "    'Melen M. Tamayao': 'Mili Ann M. Tamayao'\n",
    "}"
   ]
  },
  {
   "cell_type": "code",
   "execution_count": 53,
   "metadata": {},
   "outputs": [],
   "source": [
    "data = data.replace(for_replace)"
   ]
  },
  {
   "cell_type": "code",
   "execution_count": 46,
   "metadata": {},
   "outputs": [],
   "source": [
    "affiliations = np.unique(np.concatenate([data['affiliation1'].unique(), data['affiliation2'].unique()]))"
   ]
  },
  {
   "cell_type": "code",
   "execution_count": 47,
   "metadata": {},
   "outputs": [
    {
     "data": {
      "text/plain": [
       "50"
      ]
     },
     "execution_count": 47,
     "metadata": {},
     "output_type": "execute_result"
    }
   ],
   "source": [
    "len(affiliations)"
   ]
  },
  {
   "cell_type": "code",
   "execution_count": 35,
   "metadata": {},
   "outputs": [
    {
     "name": "stdout",
     "output_type": "stream",
     "text": [
      "3 Ateneo de Davao University Ateneo de Naga University\n",
      "4 Ateneo de Manila University Ateneo de Naga University\n",
      "3 Ateneo de Naga University Ateneo de Davao University\n",
      "4 Ateneo de Naga University Ateneo de Manila University\n"
     ]
    }
   ],
   "source": [
    "replace_affil = {}\n",
    "\n",
    "for i in affiliations:\n",
    "    result = filter(lambda x: x.startswith(i[0]), affiliations)\n",
    "    for x in result:\n",
    "        if i != x:\n",
    "            dist = levenshtein_ratio_and_distance(i, x)\n",
    "            if dist < 5 and dist > 0:\n",
    "                print(dist, i, x)\n",
    "                replace_affil[i] = x"
   ]
  },
  {
   "cell_type": "code",
   "execution_count": 32,
   "metadata": {},
   "outputs": [],
   "source": [
    "data = data.replace({'MSU – Iligan Institute of Technology': 'MSU - Iligan Institute of Technology',\n",
    "                     'University of the Philippines - Los Banos': 'University of the Philippines - Los Baños',\n",
    "                     'University of the Philippines - Los Ba​ños': 'University of the Philippines - Los Baños',\n",
    "                    })"
   ]
  },
  {
   "cell_type": "code",
   "execution_count": 56,
   "metadata": {},
   "outputs": [],
   "source": [
    "data.to_csv('network-data/combined-edges.csv', index=False)"
   ]
  }
 ],
 "metadata": {
  "kernelspec": {
   "display_name": "Python 3",
   "language": "python",
   "name": "python3"
  },
  "language_info": {
   "codemirror_mode": {
    "name": "ipython",
    "version": 3
   },
   "file_extension": ".py",
   "mimetype": "text/x-python",
   "name": "python",
   "nbconvert_exporter": "python",
   "pygments_lexer": "ipython3",
   "version": "3.7.3"
  }
 },
 "nbformat": 4,
 "nbformat_minor": 2
}
